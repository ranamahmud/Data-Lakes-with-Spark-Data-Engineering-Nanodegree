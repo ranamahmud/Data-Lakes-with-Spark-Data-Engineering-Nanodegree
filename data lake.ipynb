{
 "cells": [
  {
   "cell_type": "code",
   "execution_count": 1,
   "id": "59507f4b",
   "metadata": {},
   "outputs": [
    {
     "ename": "ModuleNotFoundError",
     "evalue": "No module named 'pyspark'",
     "output_type": "error",
     "traceback": [
      "\u001b[0;31m---------------------------------------------------------------------------\u001b[0m",
      "\u001b[0;31mModuleNotFoundError\u001b[0m                       Traceback (most recent call last)",
      "\u001b[0;32m/var/folders/lf/hccxz6zd51j8cn3w_gyhqm780000gn/T/ipykernel_3226/2958265571.py\u001b[0m in \u001b[0;36m<module>\u001b[0;34m\u001b[0m\n\u001b[1;32m      2\u001b[0m \u001b[0;32mfrom\u001b[0m \u001b[0mdatetime\u001b[0m \u001b[0;32mimport\u001b[0m \u001b[0mdatetime\u001b[0m\u001b[0;34m\u001b[0m\u001b[0;34m\u001b[0m\u001b[0m\n\u001b[1;32m      3\u001b[0m \u001b[0;32mimport\u001b[0m \u001b[0mos\u001b[0m\u001b[0;34m\u001b[0m\u001b[0;34m\u001b[0m\u001b[0m\n\u001b[0;32m----> 4\u001b[0;31m \u001b[0;32mfrom\u001b[0m \u001b[0mpyspark\u001b[0m\u001b[0;34m.\u001b[0m\u001b[0msql\u001b[0m \u001b[0;32mimport\u001b[0m \u001b[0mSparkSession\u001b[0m\u001b[0;34m\u001b[0m\u001b[0;34m\u001b[0m\u001b[0m\n\u001b[0m\u001b[1;32m      5\u001b[0m \u001b[0;32mfrom\u001b[0m \u001b[0mpyspark\u001b[0m\u001b[0;34m.\u001b[0m\u001b[0msql\u001b[0m\u001b[0;34m.\u001b[0m\u001b[0mfunctions\u001b[0m \u001b[0;32mimport\u001b[0m \u001b[0mudf\u001b[0m\u001b[0;34m,\u001b[0m \u001b[0mcol\u001b[0m\u001b[0;34m\u001b[0m\u001b[0;34m\u001b[0m\u001b[0m\n\u001b[1;32m      6\u001b[0m \u001b[0;32mfrom\u001b[0m \u001b[0mpyspark\u001b[0m\u001b[0;34m.\u001b[0m\u001b[0msql\u001b[0m\u001b[0;34m.\u001b[0m\u001b[0mfunctions\u001b[0m \u001b[0;32mimport\u001b[0m \u001b[0myear\u001b[0m\u001b[0;34m,\u001b[0m \u001b[0mmonth\u001b[0m\u001b[0;34m,\u001b[0m \u001b[0mdayofmonth\u001b[0m\u001b[0;34m,\u001b[0m \u001b[0mhour\u001b[0m\u001b[0;34m,\u001b[0m \u001b[0mweekofyear\u001b[0m\u001b[0;34m,\u001b[0m \u001b[0mdate_format\u001b[0m\u001b[0;34m\u001b[0m\u001b[0;34m\u001b[0m\u001b[0m\n",
      "\u001b[0;31mModuleNotFoundError\u001b[0m: No module named 'pyspark'"
     ]
    }
   ],
   "source": [
    "import configparser\n",
    "from datetime import datetime\n",
    "import os\n",
    "from pyspark.sql import SparkSession\n",
    "from pyspark.sql.functions import udf, col\n",
    "from pyspark.sql.functions import year, month, dayofmonth, hour, weekofyear, date_format\n",
    "\n",
    "\n",
    "config = configparser.ConfigParser()\n",
    "config.read('dl.cfg')"
   ]
  },
  {
   "cell_type": "code",
   "execution_count": null,
   "id": "cbc055f8",
   "metadata": {},
   "outputs": [],
   "source": [
    "# os.environ['AWS_ACCESS_KEY_ID']=config['AWS_ACCESS_KEY_ID']\n",
    "# os.environ['AWS_SECRET_ACCESS_KEY']=config['AWS_SECRET_ACCESS_KEY']"
   ]
  },
  {
   "cell_type": "code",
   "execution_count": 3,
   "id": "dd099fdd",
   "metadata": {},
   "outputs": [],
   "source": [
    "def create_spark_session():\n",
    "    spark = SparkSession \\\n",
    "        .builder \\\n",
    "        .config(\"spark.jars.packages\", \"org.apache.hadoop:hadoop-aws:2.7.0\") \\\n",
    "        .getOrCreate()\n",
    "    return spark"
   ]
  },
  {
   "cell_type": "code",
   "execution_count": 5,
   "id": "03666662",
   "metadata": {},
   "outputs": [],
   "source": [
    "spark = create_spark_session()"
   ]
  },
  {
   "cell_type": "code",
   "execution_count": 6,
   "id": "d7d7196d",
   "metadata": {},
   "outputs": [],
   "source": [
    "input_data = \"s3a://udacity-dend/\"\n",
    "output_data = \"\""
   ]
  },
  {
   "cell_type": "code",
   "execution_count": 7,
   "id": "e187792e",
   "metadata": {},
   "outputs": [
    {
     "name": "stdout",
     "output_type": "stream",
     "text": [
      "etl.py\t  log-data.zip\t\t    README.md  song-data.zip\r\n",
      "log-data  new_user_credentials.csv  song-data  Untitled.ipynb\r\n"
     ]
    }
   ],
   "source": [
    "!ls"
   ]
  },
  {
   "cell_type": "code",
   "execution_count": 11,
   "id": "8c1492e6",
   "metadata": {},
   "outputs": [],
   "source": [
    "# song_data = config['S3']['song_data']\n",
    "song_data = \"song-data/song_data/*/*/*/*\"\n",
    "# TODO: read song data file\n",
    "df = spark.read.json(song_data)"
   ]
  },
  {
   "cell_type": "code",
   "execution_count": 12,
   "id": "db680115",
   "metadata": {},
   "outputs": [
    {
     "name": "stdout",
     "output_type": "stream",
     "text": [
      "root\n",
      " |-- artist_id: string (nullable = true)\n",
      " |-- artist_latitude: double (nullable = true)\n",
      " |-- artist_location: string (nullable = true)\n",
      " |-- artist_longitude: double (nullable = true)\n",
      " |-- artist_name: string (nullable = true)\n",
      " |-- duration: double (nullable = true)\n",
      " |-- num_songs: long (nullable = true)\n",
      " |-- song_id: string (nullable = true)\n",
      " |-- title: string (nullable = true)\n",
      " |-- year: long (nullable = true)\n",
      "\n"
     ]
    }
   ],
   "source": [
    "df.printSchema()"
   ]
  },
  {
   "cell_type": "code",
   "execution_count": 13,
   "id": "152be6b7",
   "metadata": {},
   "outputs": [
    {
     "name": "stderr",
     "output_type": "stream",
     "text": [
      "                                                                                \r"
     ]
    },
    {
     "data": {
      "text/plain": [
       "DataFrame[summary: string, artist_id: string, artist_latitude: string, artist_location: string, artist_longitude: string, artist_name: string, duration: string, num_songs: string, song_id: string, title: string, year: string]"
      ]
     },
     "execution_count": 13,
     "metadata": {},
     "output_type": "execute_result"
    }
   ],
   "source": [
    "df.describe()"
   ]
  },
  {
   "cell_type": "code",
   "execution_count": 14,
   "id": "6efbca47",
   "metadata": {},
   "outputs": [
    {
     "name": "stdout",
     "output_type": "stream",
     "text": [
      "+------------------+---------------+---------------+----------------+--------------------+---------+---------+------------------+--------------------+----+\n",
      "|         artist_id|artist_latitude|artist_location|artist_longitude|         artist_name| duration|num_songs|           song_id|               title|year|\n",
      "+------------------+---------------+---------------+----------------+--------------------+---------+---------+------------------+--------------------+----+\n",
      "|ARDR4AC1187FB371A1|           null|               |            null|Montserrat Caball...|511.16363|        1|SOBAYLL12A8C138AF9|Sono andati? Fing...|   0|\n",
      "+------------------+---------------+---------------+----------------+--------------------+---------+---------+------------------+--------------------+----+\n",
      "only showing top 1 row\n",
      "\n"
     ]
    }
   ],
   "source": [
    "df.show(n=1)"
   ]
  },
  {
   "cell_type": "code",
   "execution_count": null,
   "id": "d778b223",
   "metadata": {},
   "outputs": [],
   "source": [
    "# TODO: extract columns to create songs table\n",
    "# song_id, title, artist_id, year, duration\n",
    "songs_table = "
   ]
  },
  {
   "cell_type": "code",
   "execution_count": null,
   "id": "72beb8a4",
   "metadata": {},
   "outputs": [],
   "source": [
    "# TODO: write songs table to parquet files partitioned by year and artist\n",
    "songs_table\n",
    "\n",
    "# TODO: extract columns to create artists table\n",
    "# artist_id, name, location, lattitude, longitude\n",
    "artists_table = "
   ]
  },
  {
   "cell_type": "code",
   "execution_count": null,
   "id": "52189d77",
   "metadata": {},
   "outputs": [],
   "source": [
    "# TODO: write artists table to parquet files\n",
    "artists_table"
   ]
  },
  {
   "cell_type": "code",
   "execution_count": null,
   "id": "a324b3c8",
   "metadata": {},
   "outputs": [],
   "source": [
    "# TODO: get filepath to log data file\n",
    "log_data =\n",
    "\n",
    "# TODO: read log data file\n",
    "df = \n",
    "\n",
    "# TODO: filter by actions for song plays\n",
    "df = \n",
    "\n",
    "# TODO: extract columns for users table  \n",
    "# user_id, first_name, last_name, gender, level\n",
    "artists_table = \n",
    "\n",
    "# TODO: write users table to parquet files\n",
    "artists_table\n",
    "\n",
    "# TODO: create timestamp column from original timestamp column\n",
    "get_timestamp = udf()\n",
    "df = \n",
    "\n",
    "# TODO: create datetime column from original timestamp column\n",
    "get_datetime = udf()\n",
    "df = \n",
    "\n",
    "# TODO: extract columns to create time table\n",
    "# start_time, hour, day, week, month, year, weekday\n",
    "time_table = \n",
    "\n",
    "# TODO: write time table to parquet files partitioned by year and month\n",
    "time_table\n",
    "\n",
    "# TODO: read in song data to use for songplays table\n",
    "song_df = \n",
    "\n",
    "# TODO: extract columns from joined song and log datasets to create songplays table \n",
    "songplays_table = \n",
    "\n",
    "# TODO: write songplays table to parquet files partitioned by year and month\n",
    "songplays_table"
   ]
  },
  {
   "cell_type": "code",
   "execution_count": null,
   "id": "223e4c10",
   "metadata": {},
   "outputs": [],
   "source": [
    "def process_song_data(spark, input_data, output_data):\n",
    "    # TODO: get filepath to song data file\n",
    "    song_data = config['S3']['song_data']\n",
    "    # TODO: read song data file\n",
    "    df = \n",
    "\n",
    "    # TODO: extract columns to create songs table\n",
    "    songs_table = \n",
    "    \n",
    "    # TODO: write songs table to parquet files partitioned by year and artist\n",
    "    songs_table\n",
    "\n",
    "    # TODO: extract columns to create artists table\n",
    "    artists_table = \n",
    "    \n",
    "    # TODO: write artists table to parquet files\n",
    "    artists_table"
   ]
  },
  {
   "cell_type": "code",
   "execution_count": null,
   "id": "42920cc4",
   "metadata": {},
   "outputs": [],
   "source": [
    "def process_log_data(spark, input_data, output_data):\n",
    "    # TODO: get filepath to log data file\n",
    "    log_data =\n",
    "\n",
    "    # TODO: read log data file\n",
    "    df = \n",
    "    \n",
    "    # TODO: filter by actions for song plays\n",
    "    df = \n",
    "\n",
    "    # TODO: extract columns for users table    \n",
    "    artists_table = \n",
    "    \n",
    "    # TODO: write users table to parquet files\n",
    "    artists_table\n",
    "\n",
    "    # TODO: create timestamp column from original timestamp column\n",
    "    get_timestamp = udf()\n",
    "    df = \n",
    "    \n",
    "    # TODO: create datetime column from original timestamp column\n",
    "    get_datetime = udf()\n",
    "    df = \n",
    "    \n",
    "    # TODO: extract columns to create time table\n",
    "    time_table = \n",
    "    \n",
    "    # TODO: write time table to parquet files partitioned by year and month\n",
    "    time_table\n",
    "\n",
    "    # TODO: read in song data to use for songplays table\n",
    "    song_df = \n",
    "\n",
    "    # TODO: extract columns from joined song and log datasets to create songplays table \n",
    "    songplays_table = \n",
    "\n",
    "    # TODO: write songplays table to parquet files partitioned by year and month\n",
    "    songplays_table"
   ]
  },
  {
   "cell_type": "code",
   "execution_count": null,
   "id": "825a7f4a",
   "metadata": {},
   "outputs": [],
   "source": [
    "def main():\n",
    "    spark = create_spark_session()\n",
    "    input_data = \"s3a://udacity-dend/\"\n",
    "    output_data = \"\"\n",
    "    \n",
    "    process_song_data(spark, input_data, output_data)    \n",
    "    process_log_data(spark, input_data, output_data)\n",
    "\n",
    "\n",
    "if __name__ == \"__main__\":\n",
    "    main()"
   ]
  }
 ],
 "metadata": {
  "kernelspec": {
   "display_name": "Python 3 (ipykernel)",
   "language": "python",
   "name": "python3"
  },
  "language_info": {
   "codemirror_mode": {
    "name": "ipython",
    "version": 3
   },
   "file_extension": ".py",
   "mimetype": "text/x-python",
   "name": "python",
   "nbconvert_exporter": "python",
   "pygments_lexer": "ipython3",
   "version": "3.8.11"
  }
 },
 "nbformat": 4,
 "nbformat_minor": 5
}
